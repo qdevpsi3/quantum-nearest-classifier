{
 "metadata": {
  "language_info": {
   "codemirror_mode": {
    "name": "ipython",
    "version": 3
   },
   "file_extension": ".py",
   "mimetype": "text/x-python",
   "name": "python",
   "nbconvert_exporter": "python",
   "pygments_lexer": "ipython3",
   "version": "3.6.13"
  },
  "orig_nbformat": 2,
  "kernelspec": {
   "name": "qc_rl",
   "display_name": "Python 3.6.13 64-bit"
  }
 },
 "nbformat": 4,
 "nbformat_minor": 2,
 "cells": [
  {
   "cell_type": "code",
   "execution_count": 1,
   "metadata": {},
   "outputs": [],
   "source": [
    "from quantum_ncs import QuantumNearestCentroid"
   ]
  },
  {
   "cell_type": "code",
   "execution_count": 3,
   "metadata": {},
   "outputs": [
    {
     "output_type": "execute_result",
     "data": {
      "text/plain": [
       "0.92"
      ]
     },
     "metadata": {},
     "execution_count": 3
    }
   ],
   "source": [
    "from sklearn import datasets\n",
    "from sklearn.metrics import accuracy_score\n",
    "\n",
    "iris = datasets.load_iris()\n",
    "\n",
    "X = iris.data\n",
    "y = iris.target\n",
    "target_names = iris.target_names\n",
    "\n",
    "clf = QuantumNearestCentroid(repetitions=500)\n",
    "clf.fit(X, y)\n",
    "y_pred = clf.predict(X)\n",
    "accuracy_score(y_pred,y)"
   ]
  },
  {
   "cell_type": "code",
   "execution_count": 20,
   "metadata": {},
   "outputs": [
    {
     "output_type": "stream",
     "name": "stdout",
     "text": [
      "0: ───X───B───B───B───\n          │   │   │\n1: ───────┼───┼───S───\n          │   │\n2: ───────┼───S───B───\n          │       │\n3: ───────┼───────S───\n          │\n4: ───────S───B───B───\n              │   │\n5: ───────────┼───S───\n              │\n6: ───────────S───B───\n                  │\n7: ───────────────S───\n"
     ]
    }
   ],
   "source": [
    "import cirq\n",
    "import numpy as np\n",
    "from quantum_ncs.gates import VectorLoader\n",
    "\n",
    "dim = 8\n",
    "vector = np.random.uniform(size=dim)\n",
    "loader = VectorLoader(vector=vector)\n",
    "qubits = cirq.LineQubit.range(dim)\n",
    "circuit = cirq.Circuit(cirq.decompose(loader(*qubits)))\n",
    "\n",
    "print(circuit)"
   ]
  },
  {
   "cell_type": "code",
   "execution_count": 24,
   "metadata": {},
   "outputs": [
    {
     "output_type": "stream",
     "name": "stdout",
     "text": [
      "0: ───X───B───B───@───@───@───────────────────────────────────────\n          │   │   │   │   │\n1: ───────┼───S───┼───┼───┼───@───@───@───────────────────────────\n          │       │   │   │   │   │   │\n2: ───────S───B───┼───┼───┼───┼───┼───┼───@───@───@───────────────\n              │   │   │   │   │   │   │   │   │   │\n3: ───────────S───┼───┼───┼───┼───┼───┼───┼───┼───┼───@───@───@───\n                  │   │   │   │   │   │   │   │   │   │   │   │\n4: ───X───────────B───B───┼───B───B───┼───B───B───┼───B───B───┼───\n                  │   │   │   │   │   │   │   │   │   │   │   │\n5: ───────────────┼───S───┼───┼───S───┼───┼───S───┼───┼───S───┼───\n                  │       │   │       │   │       │   │       │\n6: ───────────────S───────B───S───────B───S───────B───S───────B───\n                          │           │           │           │\n7: ───────────────────────S───────────S───────────S───────────S───\n"
     ]
    }
   ],
   "source": [
    "import cirq\n",
    "import numpy as np\n",
    "from quantum_ncs.gates import VectorLoader, MatrixLoader\n",
    "\n",
    "dim = 4\n",
    "matrix = np.random.uniform(size=(dim,dim))\n",
    "loader = MatrixLoader(matrix=matrix)\n",
    "qubits = cirq.LineQubit.range(2*dim)\n",
    "circuit = cirq.Circuit(cirq.decompose(loader(*qubits)))\n",
    "\n",
    "print(circuit)"
   ]
  },
  {
   "cell_type": "code",
   "execution_count": 27,
   "metadata": {},
   "outputs": [],
   "source": [
    "\n",
    "from quantum_ncs.classifier import QuantumNearestCentroid\n",
    "\n",
    "num = 100\n",
    "dim = 4\n",
    "X = np.random.uniform(size=(num,dim))\n",
    "y = np.random.randint(2,size=num)\n",
    "\n",
    "clf = QuantumNearestCentroid(repetitions=500)\n",
    "clf.fit(X, y)\n",
    "y_pred = clf.predict(X)"
   ]
  },
  {
   "cell_type": "code",
   "execution_count": 28,
   "metadata": {},
   "outputs": [
    {
     "output_type": "execute_result",
     "data": {
      "text/plain": [
       "array([1, 1, 0, 0, 1, 0, 0, 1, 1, 1, 0, 1, 1, 1, 0, 0, 1, 0, 1, 1, 1, 0,\n",
       "       0, 1, 0, 0, 0, 1, 1, 1, 1, 1, 1, 0, 0, 0, 1, 0, 1, 1, 1, 1, 1, 1,\n",
       "       0, 0, 0, 1, 0, 1, 1, 0, 0, 1, 1, 0, 1, 1, 1, 1, 0, 0, 1, 0, 1, 1,\n",
       "       0, 0, 0, 0, 0, 1, 1, 1, 1, 1, 0, 1, 1, 1, 1, 0, 0, 0, 0, 1, 1, 1,\n",
       "       1, 0, 0, 1, 0, 1, 1, 1, 1, 0, 1, 1])"
      ]
     },
     "metadata": {},
     "execution_count": 28
    }
   ],
   "source": [
    "y_pred"
   ]
  },
  {
   "cell_type": "code",
   "execution_count": null,
   "metadata": {},
   "outputs": [],
   "source": []
  }
 ]
}