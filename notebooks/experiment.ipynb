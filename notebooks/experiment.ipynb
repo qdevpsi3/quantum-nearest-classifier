{
 "cells": [
  {
   "cell_type": "markdown",
   "metadata": {
    "id": "DaLcvUUCFFCU"
   },
   "source": [
    "# Packages"
   ]
  },
  {
   "cell_type": "code",
   "execution_count": null,
   "metadata": {
    "colab": {
     "base_uri": "https://localhost:8080/",
     "height": 1000
    },
    "id": "HMu5vN_eFEgB",
    "outputId": "2c2791a0-b0a9-43e6-9b2e-a063879a7e0b"
   },
   "outputs": [],
   "source": [
    "!pip install cirq\n",
    "!pip install git+https://github.com/qdevpsi3/quantum-nearest-classifier.git"
   ]
  },
  {
   "cell_type": "markdown",
   "metadata": {
    "id": "Ya6gCCNuF9AC"
   },
   "source": [
    "# Utils"
   ]
  },
  {
   "cell_type": "code",
   "execution_count": null,
   "metadata": {
    "id": "QW-_7yk3FyP1"
   },
   "outputs": [],
   "source": [
    "import matplotlib.pyplot as plt\n",
    "import numpy as np\n",
    "from sklearn import datasets\n",
    "from sklearn.metrics import accuracy_score"
   ]
  },
  {
   "cell_type": "code",
   "execution_count": null,
   "metadata": {
    "id": "7dl1fbr9F31a"
   },
   "outputs": [],
   "source": [
    "def iris_experiment(model):\n",
    "    iris = datasets.load_iris()\n",
    "    X = iris.data\n",
    "    y = y_true = iris.target\n",
    "\n",
    "    # train model\n",
    "    model.fit(X, y)\n",
    "\n",
    "    # test model\n",
    "    y_pred = model.predict(X)\n",
    "    score = accuracy_score(y_true, y_pred)\n",
    "    error = 100 * (1. - score)\n",
    "\n",
    "    return error\n",
    "\n",
    "\n",
    "def iris_plot(c_error, q_errors):\n",
    "    labels = ['100', '500', '1000']\n",
    "\n",
    "    x = np.arange(len(labels))\n",
    "    width = 0.35\n",
    "\n",
    "    fig, ax = plt.subplots()\n",
    "    ax.bar(x - width / 2, q_errors[0], width, label='w/o mitigation')\n",
    "    ax.bar(x + width / 2, q_errors[1], width, label='mitigation')\n",
    "    plt.axhline(y=c_error, color='black', linestyle='--', label='classical')\n",
    "\n",
    "    ax.set_ylabel('Classification error %')\n",
    "    ax.set_xticks(x)\n",
    "    ax.set_xticklabels(labels)\n",
    "    ax.legend(loc='lower right')\n",
    "\n",
    "    fig.tight_layout()\n",
    "\n",
    "    plt.show()"
   ]
  },
  {
   "cell_type": "markdown",
   "metadata": {
    "id": "nexRl-OL16mZ"
   },
   "source": [
    "# Experiment"
   ]
  },
  {
   "cell_type": "code",
   "execution_count": null,
   "metadata": {
    "id": "1hVSYGSiHdL9"
   },
   "outputs": [],
   "source": [
    "from sklearn.neighbors import NearestCentroid\n",
    "\n",
    "from quantum_ncs.classifier import QuantumNearestCentroid\n",
    "\n",
    "c_model = NearestCentroid()\n",
    "q_model = QuantumNearestCentroid(error_rate=0.05)\n",
    "\n",
    "c_error = iris_experiment(c_model)\n",
    "q_errors = []\n",
    "\n",
    "for mitigation in [False, True]:\n",
    "    errors = []\n",
    "    q_model.error_mitigation = mitigation\n",
    "    for repetitions in [100, 500, 1000]:\n",
    "        q_model.repetitions = repetitions\n",
    "        errors.append(iris_experiment(q_model))\n",
    "    q_errors.append(errors)\n",
    "\n",
    "iris_plot(c_error, q_errors)"
   ]
  }
 ],
 "metadata": {
  "colab": {
   "collapsed_sections": [
    "DaLcvUUCFFCU"
   ],
   "name": "Untitled35.ipynb",
   "provenance": []
  },
  "kernelspec": {
   "name": "python3613jvsc74a57bd0a02a61849171617a0da370a2b2ecb0f2b7aebd8796d470eac12a089e556a21e6",
   "display_name": "Python 3.6.13 64-bit ('QC_RL': conda)"
  },
  "language_info": {
   "codemirror_mode": {
    "name": "ipython",
    "version": 3
   },
   "file_extension": ".py",
   "mimetype": "text/x-python",
   "name": "python",
   "nbconvert_exporter": "python",
   "pygments_lexer": "ipython3",
   "version": "3.6.13"
  }
 },
 "nbformat": 4,
 "nbformat_minor": 4
}